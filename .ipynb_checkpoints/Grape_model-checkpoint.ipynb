{
 "cells": [
  {
   "cell_type": "markdown",
   "id": "77443830",
   "metadata": {},
   "source": [
    "# Grapes Leaf Disease Detection"
   ]
  },
  {
   "cell_type": "markdown",
   "id": "11f97add",
   "metadata": {},
   "source": [
    "### Tensorflow model"
   ]
  },
  {
   "cell_type": "code",
   "execution_count": 1,
   "id": "5800c200",
   "metadata": {
    "ExecuteTime": {
     "end_time": "2021-08-20T06:08:25.117054Z",
     "start_time": "2021-08-20T06:08:24.968536Z"
    }
   },
   "outputs": [],
   "source": [
    "import os\n",
    "import numpy as np"
   ]
  },
  {
   "cell_type": "code",
   "execution_count": 2,
   "id": "ec15b268",
   "metadata": {
    "ExecuteTime": {
     "end_time": "2021-08-20T06:08:25.132679Z",
     "start_time": "2021-08-20T06:08:25.117713Z"
    }
   },
   "outputs": [],
   "source": [
    "grape_blackrot = os.path.join(r'\\Grapes\\Train\\Grape___Black_rot')\n",
    "grape_esca = os.path.join(r'\\Grapes\\Train\\Grape___Esca_(Black_Measles)')\n",
    "grape_healthy = os.path.join(r'\\Grapes\\Train\\Grape___healthy')\n",
    "grape_blight = os.path.join(r'\\Grapes\\Train\\Grape___Leaf_blight_(Isariopsis_Leaf_Spot)')\n",
    "\n",
    "\n",
    "validation_grape_blackrot = os.path.join(r'\\Grapes\\Test\\Grape___Black_rot') \n",
    "validation_grape_esca = os.path.join(r'\\Grapes\\Test\\Grape___Esca_(Black_Measles)')\n",
    "validation_grape_healthy = os.path.join(r'\\Grapes\\Test\\Grape___healthy')\n",
    "validation_grape_blight = os.path.join(r'\\Grapes\\Test\\Grape___Leaf_blight_(Isariopsis_Leaf_Spot)')"
   ]
  },
  {
   "cell_type": "code",
   "execution_count": 3,
   "id": "70be077b",
   "metadata": {
    "ExecuteTime": {
     "end_time": "2021-08-20T06:08:25.538571Z",
     "start_time": "2021-08-20T06:08:25.134671Z"
    }
   },
   "outputs": [
    {
     "name": "stdout",
     "output_type": "stream",
     "text": [
      "total traning grape blackrot images :  1180\n",
      "total traning grape esca images :  1383\n",
      "total traning grape healthy images :  1000\n",
      "total traning grape blight images :  1076\n",
      "total validation grape blackrot images :  13\n",
      "total validation grape esca images :  13\n",
      "total validation grape healthy images :  13\n",
      "total validation grape blight images :  13\n"
     ]
    }
   ],
   "source": [
    "print('total traning grape blackrot images : ', len(os.listdir(grape_blackrot)))\n",
    "print('total traning grape esca images : ', len(os.listdir(grape_esca)))\n",
    "print('total traning grape healthy images : ', len(os.listdir(grape_healthy)))\n",
    "print('total traning grape blight images : ', len(os.listdir(grape_blight)))\n",
    "\n",
    "\n",
    "print('total validation grape blackrot images : ', len(os.listdir(validation_grape_blackrot)))\n",
    "print('total validation grape esca images : ', len(os.listdir(validation_grape_esca)))\n",
    "print('total validation grape healthy images : ', len(os.listdir(validation_grape_healthy)))\n",
    "print('total validation grape blight images : ', len(os.listdir(validation_grape_blight)))"
   ]
  },
  {
   "cell_type": "code",
   "execution_count": 4,
   "id": "57dc7443",
   "metadata": {
    "ExecuteTime": {
     "end_time": "2021-08-20T06:08:25.554674Z",
     "start_time": "2021-08-20T06:08:25.540569Z"
    }
   },
   "outputs": [
    {
     "name": "stdout",
     "output_type": "stream",
     "text": [
      "['image (1).JPG', 'image (10).JPG', 'image (100).JPG', 'image (1000).JPG', 'image (1001).JPG', 'image (1002).JPG', 'image (1003).JPG', 'image (1004).JPG', 'image (1005).JPG', 'image (1006).JPG']\n",
      "['image (1).JPG', 'image (10).JPG', 'image (100).JPG', 'image (1000).JPG', 'image (1001).JPG', 'image (1002).JPG', 'image (1003).JPG', 'image (1004).JPG', 'image (1005).JPG', 'image (1006).JPG']\n",
      "['image (1).JPG', 'image (10).JPG', 'image (100).JPG', 'image (1000).JPG', 'image (101).JPG', 'image (102).JPG', 'image (103).JPG', 'image (104).JPG', 'image (105).JPG', 'image (106).JPG']\n",
      "['image (1).JPG', 'image (10).JPG', 'image (100).JPG', 'image (1000).JPG', 'image (1001).JPG', 'image (1002).JPG', 'image (1003).JPG', 'image (1004).JPG', 'image (1005).JPG', 'image (1006).JPG']\n"
     ]
    }
   ],
   "source": [
    "grape_blackrot_files = os.listdir(grape_blackrot)\n",
    "print(grape_blackrot_files[:10])\n",
    "\n",
    "grape_esca_files = os.listdir(grape_esca)\n",
    "print(grape_esca_files[:10])\n",
    "\n",
    "grape_healthy_files = os.listdir(grape_healthy)\n",
    "print(grape_healthy_files[:10])\n",
    "\n",
    "grape_blight_files = os.listdir(grape_blight)\n",
    "print(grape_blight_files[:10])"
   ]
  },
  {
   "cell_type": "code",
   "execution_count": 5,
   "id": "812ad8b4",
   "metadata": {
    "ExecuteTime": {
     "end_time": "2021-08-20T06:08:28.319843Z",
     "start_time": "2021-08-20T06:08:25.556525Z"
    }
   },
   "outputs": [],
   "source": [
    "import tensorflow as tf"
   ]
  },
  {
   "cell_type": "code",
   "execution_count": 6,
   "id": "7e88ea36",
   "metadata": {
    "ExecuteTime": {
     "end_time": "2021-08-20T06:08:28.916646Z",
     "start_time": "2021-08-20T06:08:28.321795Z"
    }
   },
   "outputs": [],
   "source": [
    "model  = tf.keras.models.Sequential([\n",
    "    tf.keras.layers.Conv2D(64, (3, 3), activation='relu', input_shape=(224,224, 3)),\n",
    "    tf.keras.layers.MaxPooling2D(2, 2),\n",
    "    \n",
    "    tf.keras.layers.Conv2D(64, (3, 3), activation='relu'),\n",
    "    tf.keras.layers.MaxPooling2D(2, 2),\n",
    "    \n",
    "    tf.keras.layers.Conv2D(128, (3, 3), activation='relu'),\n",
    "    tf.keras.layers.MaxPooling2D(2, 2),\n",
    "    \n",
    "    tf.keras.layers.Conv2D(128, (3, 3), activation='relu'),\n",
    "    tf.keras.layers.MaxPooling2D(2, 2),\n",
    "    \n",
    "    tf.keras.layers.Flatten(),\n",
    "    #tf.keras.layers.Dropout(0.5),\n",
    "    tf.keras.layers.Dense(512, activation='relu'),\n",
    "    tf.keras.layers.Dense(4, activation='softmax')\n",
    "])"
   ]
  },
  {
   "cell_type": "code",
   "execution_count": 7,
   "id": "dc3131f5",
   "metadata": {
    "ExecuteTime": {
     "end_time": "2021-08-20T06:08:28.931613Z",
     "start_time": "2021-08-20T06:08:28.917648Z"
    }
   },
   "outputs": [
    {
     "name": "stdout",
     "output_type": "stream",
     "text": [
      "Model: \"sequential\"\n",
      "_________________________________________________________________\n",
      "Layer (type)                 Output Shape              Param #   \n",
      "=================================================================\n",
      "conv2d (Conv2D)              (None, 222, 222, 64)      1792      \n",
      "_________________________________________________________________\n",
      "max_pooling2d (MaxPooling2D) (None, 111, 111, 64)      0         \n",
      "_________________________________________________________________\n",
      "conv2d_1 (Conv2D)            (None, 109, 109, 64)      36928     \n",
      "_________________________________________________________________\n",
      "max_pooling2d_1 (MaxPooling2 (None, 54, 54, 64)        0         \n",
      "_________________________________________________________________\n",
      "conv2d_2 (Conv2D)            (None, 52, 52, 128)       73856     \n",
      "_________________________________________________________________\n",
      "max_pooling2d_2 (MaxPooling2 (None, 26, 26, 128)       0         \n",
      "_________________________________________________________________\n",
      "conv2d_3 (Conv2D)            (None, 24, 24, 128)       147584    \n",
      "_________________________________________________________________\n",
      "max_pooling2d_3 (MaxPooling2 (None, 12, 12, 128)       0         \n",
      "_________________________________________________________________\n",
      "flatten (Flatten)            (None, 18432)             0         \n",
      "_________________________________________________________________\n",
      "dense (Dense)                (None, 512)               9437696   \n",
      "_________________________________________________________________\n",
      "dense_1 (Dense)              (None, 4)                 2052      \n",
      "=================================================================\n",
      "Total params: 9,699,908\n",
      "Trainable params: 9,699,908\n",
      "Non-trainable params: 0\n",
      "_________________________________________________________________\n"
     ]
    }
   ],
   "source": [
    "model.summary()"
   ]
  },
  {
   "cell_type": "code",
   "execution_count": 8,
   "id": "406204ae",
   "metadata": {
    "ExecuteTime": {
     "end_time": "2021-08-20T06:08:28.961580Z",
     "start_time": "2021-08-20T06:08:28.934609Z"
    }
   },
   "outputs": [],
   "source": [
    "from tensorflow.keras.optimizers import RMSprop\n",
    "\n",
    "model.compile(optimizer = 'adam',\n",
    "        loss = 'categorical_crossentropy',\n",
    "        metrics = ['accuracy'])"
   ]
  },
  {
   "cell_type": "code",
   "execution_count": 9,
   "id": "2aab479d",
   "metadata": {
    "ExecuteTime": {
     "end_time": "2021-08-20T06:08:29.213300Z",
     "start_time": "2021-08-20T06:08:28.963538Z"
    }
   },
   "outputs": [
    {
     "name": "stdout",
     "output_type": "stream",
     "text": [
      "Found 4639 images belonging to 4 classes.\n",
      "Found 52 images belonging to 4 classes.\n"
     ]
    }
   ],
   "source": [
    "from keras_preprocessing import image\n",
    "from tensorflow.keras.preprocessing.image import ImageDataGenerator\n",
    "\n",
    "train_dir = r'\\Grapes\\Train'\n",
    "\n",
    "validation_dir = r'\\Grapes\\Test'\n",
    "\n",
    "train_datagen = ImageDataGenerator(rescale=1./255.,\n",
    "                                    rotation_range=40,\n",
    "                                    width_shift_range=0.2,\n",
    "                                    height_shift_range=0.2,\n",
    "                                    shear_range=0.2,\n",
    "                                    zoom_range=0.2\n",
    "                                    )\n",
    "\n",
    "validation_datagen = ImageDataGenerator(rescale=1.0/255.)\n",
    "\n",
    "batch_sz = 64\n",
    "\n",
    "train_generator = train_datagen.flow_from_directory(train_dir, \n",
    "                                                    batch_size=batch_sz,\n",
    "                                                    class_mode='categorical',\n",
    "                                                    target_size = (224, 224))\n",
    "                                \n",
    "validation_generator = validation_datagen.flow_from_directory(validation_dir, \n",
    "                                                            batch_size=batch_sz,\n",
    "                                                            class_mode='categorical',\n",
    "                                                            target_size= (224, 224))"
   ]
  },
  {
   "cell_type": "code",
   "execution_count": 10,
   "id": "0b61f075",
   "metadata": {
    "ExecuteTime": {
     "end_time": "2021-08-20T06:30:42.655701Z",
     "start_time": "2021-08-20T06:08:29.215296Z"
    }
   },
   "outputs": [
    {
     "name": "stdout",
     "output_type": "stream",
     "text": [
      "Epoch 1/25\n",
      "12/12 [==============================] - 68s 5s/step - loss: 1.4983 - accuracy: 0.2826 - val_loss: 1.5785 - val_accuracy: 0.2500\n",
      "Epoch 2/25\n",
      "12/12 [==============================] - 53s 4s/step - loss: 1.3336 - accuracy: 0.3516 - val_loss: 1.1356 - val_accuracy: 0.4231\n",
      "Epoch 3/25\n",
      "12/12 [==============================] - 48s 4s/step - loss: 1.1005 - accuracy: 0.4939 - val_loss: 0.8915 - val_accuracy: 0.5962\n",
      "Epoch 4/25\n",
      "12/12 [==============================] - 48s 4s/step - loss: 0.9157 - accuracy: 0.6068 - val_loss: 0.6963 - val_accuracy: 0.7115\n",
      "Epoch 5/25\n",
      "12/12 [==============================] - 51s 4s/step - loss: 0.8479 - accuracy: 0.6510 - val_loss: 1.3347 - val_accuracy: 0.4038\n",
      "Epoch 6/25\n",
      "12/12 [==============================] - 53s 4s/step - loss: 0.8524 - accuracy: 0.6641 - val_loss: 0.6992 - val_accuracy: 0.6923\n",
      "Epoch 7/25\n",
      "12/12 [==============================] - 51s 4s/step - loss: 0.7399 - accuracy: 0.7161 - val_loss: 0.6192 - val_accuracy: 0.6923\n",
      "Epoch 8/25\n",
      "12/12 [==============================] - 51s 4s/step - loss: 0.6725 - accuracy: 0.7374 - val_loss: 0.7398 - val_accuracy: 0.6538\n",
      "Epoch 9/25\n",
      "12/12 [==============================] - 51s 4s/step - loss: 0.6206 - accuracy: 0.7552 - val_loss: 1.0961 - val_accuracy: 0.6731\n",
      "Epoch 10/25\n",
      "12/12 [==============================] - 49s 4s/step - loss: 0.6737 - accuracy: 0.7201 - val_loss: 0.7969 - val_accuracy: 0.7115\n",
      "Epoch 11/25\n",
      "12/12 [==============================] - 50s 4s/step - loss: 0.6130 - accuracy: 0.7617 - val_loss: 0.6447 - val_accuracy: 0.7692\n",
      "Epoch 12/25\n",
      "12/12 [==============================] - 47s 4s/step - loss: 0.5249 - accuracy: 0.7837 - val_loss: 0.3973 - val_accuracy: 0.8654\n",
      "Epoch 13/25\n",
      "12/12 [==============================] - 50s 4s/step - loss: 0.5295 - accuracy: 0.7773 - val_loss: 0.3583 - val_accuracy: 0.8846\n",
      "Epoch 14/25\n",
      "12/12 [==============================] - 49s 4s/step - loss: 0.5016 - accuracy: 0.8034 - val_loss: 0.5531 - val_accuracy: 0.7500\n",
      "Epoch 15/25\n",
      "12/12 [==============================] - 49s 4s/step - loss: 0.4929 - accuracy: 0.8099 - val_loss: 0.4284 - val_accuracy: 0.8269\n",
      "Epoch 16/25\n",
      "12/12 [==============================] - 51s 4s/step - loss: 0.5317 - accuracy: 0.7943 - val_loss: 0.4024 - val_accuracy: 0.8269\n",
      "Epoch 17/25\n",
      "12/12 [==============================] - 50s 4s/step - loss: 0.4475 - accuracy: 0.8229 - val_loss: 0.3034 - val_accuracy: 0.9038\n",
      "Epoch 18/25\n",
      "12/12 [==============================] - 49s 4s/step - loss: 0.3890 - accuracy: 0.8568 - val_loss: 0.2230 - val_accuracy: 0.8846\n",
      "Epoch 19/25\n",
      "12/12 [==============================] - 51s 4s/step - loss: 0.3087 - accuracy: 0.8893 - val_loss: 0.1906 - val_accuracy: 0.8846\n",
      "Epoch 20/25\n",
      "12/12 [==============================] - 52s 4s/step - loss: 0.2728 - accuracy: 0.9036 - val_loss: 0.1451 - val_accuracy: 0.9615\n",
      "Epoch 21/25\n",
      "12/12 [==============================] - 65s 5s/step - loss: 0.2707 - accuracy: 0.9076 - val_loss: 0.2179 - val_accuracy: 0.8654\n",
      "Epoch 22/25\n",
      "12/12 [==============================] - 63s 5s/step - loss: 0.2450 - accuracy: 0.9128 - val_loss: 0.9323 - val_accuracy: 0.8077\n",
      "Epoch 23/25\n",
      "12/12 [==============================] - 60s 5s/step - loss: 0.3761 - accuracy: 0.8542 - val_loss: 0.3756 - val_accuracy: 0.8462\n",
      "Epoch 24/25\n",
      "12/12 [==============================] - 60s 5s/step - loss: 0.2335 - accuracy: 0.9115 - val_loss: 0.0997 - val_accuracy: 0.9615\n",
      "Epoch 25/25\n",
      "12/12 [==============================] - 61s 5s/step - loss: 0.2524 - accuracy: 0.9102 - val_loss: 0.1231 - val_accuracy: 0.9615\n"
     ]
    }
   ],
   "source": [
    "history = model.fit(train_generator,\n",
    "                    validation_data = validation_generator,\n",
    "                    steps_per_epoch = 12,\n",
    "                    epochs = 25,\n",
    "                    validation_steps = 1,\n",
    "                    verbose = 1)"
   ]
  },
  {
   "cell_type": "code",
   "execution_count": 11,
   "id": "f939421a",
   "metadata": {
    "ExecuteTime": {
     "end_time": "2021-08-20T06:30:43.466820Z",
     "start_time": "2021-08-20T06:30:42.661685Z"
    }
   },
   "outputs": [
    {
     "data": {
      "image/png": "[encoded data removed]",
      "text/plain": [
       "<Figure size 432x288 with 1 Axes>"
      ]
     },
     "metadata": {
      "needs_background": "light"
     },
     "output_type": "display_data"
    },
    {
     "data": {
      "text/plain": [
       "<Figure size 432x288 with 0 Axes>"
      ]
     },
     "metadata": {},
     "output_type": "display_data"
    }
   ],
   "source": [
    "import matplotlib.pyplot as plt\n",
    "acc = history.history['accuracy']\n",
    "val_acc = history.history['val_accuracy']\n",
    "loss = history.history['loss']\n",
    "val_loss = history.history['val_loss']\n",
    "\n",
    "epochs = range(len(acc))\n",
    "\n",
    "plt.plot(epochs, acc, 'r', label='Training accuracy')\n",
    "plt.plot(epochs, val_acc, 'b', label='Validation accuracy')\n",
    "plt.title('Training and validation accuracy')\n",
    "plt.legend(loc=0)\n",
    "plt.figure()\n",
    "\n",
    "\n",
    "plt.show()"
   ]
  },
  {
   "cell_type": "code",
   "execution_count": 12,
   "id": "b4a01ea3",
   "metadata": {
    "ExecuteTime": {
     "end_time": "2021-08-20T06:30:43.626444Z",
     "start_time": "2021-08-20T06:30:43.467785Z"
    }
   },
   "outputs": [
    {
     "data": {
      "text/plain": [
       "<Figure size 432x288 with 0 Axes>"
      ]
     },
     "execution_count": 12,
     "metadata": {},
     "output_type": "execute_result"
    },
    {
     "data": {
      "image/png": "[encoded data removed]",
      "text/plain": [
       "<Figure size 432x288 with 1 Axes>"
      ]
     },
     "metadata": {
      "needs_background": "light"
     },
     "output_type": "display_data"
    },
    {
     "data": {
      "text/plain": [
       "<Figure size 432x288 with 0 Axes>"
      ]
     },
     "metadata": {},
     "output_type": "display_data"
    }
   ],
   "source": [
    "epochs = range(len(acc))\n",
    "\n",
    "plt.plot(epochs, loss, 'r', label='Training loss')\n",
    "plt.plot(epochs, val_loss, 'b', label='Validation loss')\n",
    "plt.title('Training and validation loss')\n",
    "plt.legend(loc=0)\n",
    "plt.figure()"
   ]
  },
  {
   "cell_type": "markdown",
   "id": "a15982dc",
   "metadata": {},
   "source": [
    "### mode save"
   ]
  },
  {
   "cell_type": "code",
   "execution_count": 13,
   "id": "a4147bb3",
   "metadata": {
    "ExecuteTime": {
     "end_time": "2021-08-20T06:30:43.642197Z",
     "start_time": "2021-08-20T06:30:43.627470Z"
    }
   },
   "outputs": [],
   "source": [
    "if os.path.isfile('\\Grapes\\models\\grape_model.h5') is False:\n",
    "    model.save('\\Grapes\\models\\grape_model.h5')"
   ]
  },
  {
   "cell_type": "markdown",
   "id": "21bc5ba1",
   "metadata": {},
   "source": [
    "### to test model with new images"
   ]
  },
  {
   "cell_type": "code",
   "execution_count": 18,
   "id": "7eb765e6",
   "metadata": {
    "ExecuteTime": {
     "end_time": "2021-08-20T06:53:07.459955Z",
     "start_time": "2021-08-20T06:53:03.833430Z"
    }
   },
   "outputs": [
    {
     "name": "stdout",
     "output_type": "stream",
     "text": [
      "3\n"
     ]
    }
   ],
   "source": [
    "from keras.models import load_model\n",
    "\n",
    "IMG_SIZE = 224\n",
    "file_path = '\\Grapes\\Train\\Grape___healthy\\image (17).jpg'\n",
    "test_image = image.load_img(file_path, target_size=(IMG_SIZE,IMG_SIZE))\n",
    " \n",
    "test_image = image.img_to_array(test_image)\n",
    "test_image = np.expand_dims(test_image, axis=0)\n",
    "model = load_model('\\Grapes\\models\\grape_model.h5')\n",
    "\n",
    "result = model.predict(test_image)\n",
    "index = np.argmax(result)\n",
    "print(index)"
   ]
  },
  {
   "cell_type": "code",
   "execution_count": null,
   "id": "6b7ac201",
   "metadata": {},
   "outputs": [],
   "source": []
  }
 ],
 "metadata": {
  "kernelspec": {
   "display_name": "Python 3",
   "language": "python",
   "name": "python3"
  },
  "language_info": {
   "codemirror_mode": {
    "name": "ipython",
    "version": 3
   },
   "file_extension": ".py",
   "mimetype": "text/x-python",
   "name": "python",
   "nbconvert_exporter": "python",
   "pygments_lexer": "ipython3",
   "version": "3.8.8"
  }
 },
 "nbformat": 4,
 "nbformat_minor": 5
}
